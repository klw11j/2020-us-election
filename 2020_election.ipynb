{
 "cells": [
  {
   "cell_type": "code",
   "execution_count": 2,
   "metadata": {},
   "outputs": [],
   "source": [
    "import pandas as pd"
   ]
  },
  {
   "cell_type": "code",
   "execution_count": 25,
   "metadata": {},
   "outputs": [
    {
     "data": {
      "text/html": [
       "<div>\n",
       "<style scoped>\n",
       "    .dataframe tbody tr th:only-of-type {\n",
       "        vertical-align: middle;\n",
       "    }\n",
       "\n",
       "    .dataframe tbody tr th {\n",
       "        vertical-align: top;\n",
       "    }\n",
       "\n",
       "    .dataframe thead th {\n",
       "        text-align: right;\n",
       "    }\n",
       "</style>\n",
       "<table border=\"1\" class=\"dataframe\">\n",
       "  <thead>\n",
       "    <tr style=\"text-align: right;\">\n",
       "      <th></th>\n",
       "      <th>state</th>\n",
       "      <th>county</th>\n",
       "      <th>candidate</th>\n",
       "      <th>party</th>\n",
       "      <th>total_votes_per_candidate_in_county</th>\n",
       "      <th>won_in_county</th>\n",
       "    </tr>\n",
       "  </thead>\n",
       "  <tbody>\n",
       "    <tr>\n",
       "      <th>0</th>\n",
       "      <td>Delaware</td>\n",
       "      <td>Kent County</td>\n",
       "      <td>Joe Biden</td>\n",
       "      <td>DEM</td>\n",
       "      <td>44552</td>\n",
       "      <td>True</td>\n",
       "    </tr>\n",
       "    <tr>\n",
       "      <th>1</th>\n",
       "      <td>Delaware</td>\n",
       "      <td>Kent County</td>\n",
       "      <td>Donald Trump</td>\n",
       "      <td>REP</td>\n",
       "      <td>41009</td>\n",
       "      <td>False</td>\n",
       "    </tr>\n",
       "    <tr>\n",
       "      <th>4</th>\n",
       "      <td>Delaware</td>\n",
       "      <td>New Castle County</td>\n",
       "      <td>Joe Biden</td>\n",
       "      <td>DEM</td>\n",
       "      <td>195034</td>\n",
       "      <td>True</td>\n",
       "    </tr>\n",
       "    <tr>\n",
       "      <th>5</th>\n",
       "      <td>Delaware</td>\n",
       "      <td>New Castle County</td>\n",
       "      <td>Donald Trump</td>\n",
       "      <td>REP</td>\n",
       "      <td>88364</td>\n",
       "      <td>False</td>\n",
       "    </tr>\n",
       "    <tr>\n",
       "      <th>8</th>\n",
       "      <td>Delaware</td>\n",
       "      <td>Sussex County</td>\n",
       "      <td>Donald Trump</td>\n",
       "      <td>REP</td>\n",
       "      <td>71230</td>\n",
       "      <td>True</td>\n",
       "    </tr>\n",
       "  </tbody>\n",
       "</table>\n",
       "</div>"
      ],
      "text/plain": [
       "      state             county     candidate party  \\\n",
       "0  Delaware        Kent County     Joe Biden   DEM   \n",
       "1  Delaware        Kent County  Donald Trump   REP   \n",
       "4  Delaware  New Castle County     Joe Biden   DEM   \n",
       "5  Delaware  New Castle County  Donald Trump   REP   \n",
       "8  Delaware      Sussex County  Donald Trump   REP   \n",
       "\n",
       "   total_votes_per_candidate_in_county  won_in_county  \n",
       "0                                44552           True  \n",
       "1                                41009          False  \n",
       "4                               195034           True  \n",
       "5                                88364          False  \n",
       "8                                71230           True  "
      ]
     },
     "execution_count": 25,
     "metadata": {},
     "output_type": "execute_result"
    }
   ],
   "source": [
    "df1 = pd.read_csv(\"president_county_candidate.csv\")\n",
    "df1.columns = [\"state\", \"county\", \"candidate\", \"party\", \"total_votes_per_candidate_in_county\", \"won_in_county\"]\n",
    "\n",
    "# Get indexes where name column has value Jo Jorgenson\n",
    "indexNames = df1[df1[\"candidate\"] == \"Jo Jorgensen\"].index\n",
    " \n",
    "# Delete these row indexes from dataFrame\n",
    "df1.drop(indexNames , inplace=True)\n",
    "\n",
    "# Get indexes where name column has value Howie Hawkins\n",
    "indexNames = df1[df1[\"candidate\"] == \"Howie Hawkins\"].index\n",
    " \n",
    "# Delete these row indexes from dataFrame\n",
    "df1.drop(indexNames , inplace=True)\n",
    "\n",
    "df1.head()"
   ]
  },
  {
   "cell_type": "code",
   "execution_count": 24,
   "metadata": {},
   "outputs": [],
   "source": [
    "#df2 = pd.read_csv(\"president_county.csv\")\n",
    "#df2.columns = [\"state\", \"county\", \"current_votes_per_county\", \"total_votes_per_county\", \"percent_votes_per_county\"]\n",
    "#df2.head()"
   ]
  },
  {
   "cell_type": "code",
   "execution_count": 23,
   "metadata": {},
   "outputs": [],
   "source": [
    "#df3 = pd.read_csv(\"president_state.csv\")\n",
    "#df3.columns = [\"state\", \"total_votes_per_state\"]\n",
    "#df3.head()"
   ]
  },
  {
   "cell_type": "code",
   "execution_count": null,
   "metadata": {},
   "outputs": [],
   "source": []
  }
 ],
 "metadata": {
  "kernelspec": {
   "display_name": "Python 3",
   "language": "python",
   "name": "python3"
  },
  "language_info": {
   "codemirror_mode": {
    "name": "ipython",
    "version": 3
   },
   "file_extension": ".py",
   "mimetype": "text/x-python",
   "name": "python",
   "nbconvert_exporter": "python",
   "pygments_lexer": "ipython3",
   "version": "3.6.10"
  }
 },
 "nbformat": 4,
 "nbformat_minor": 4
}
